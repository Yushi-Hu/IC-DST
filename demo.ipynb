{
 "cells": [
  {
   "cell_type": "markdown",
   "metadata": {},
   "source": [
    "# Demo for IC-DST"
   ]
  },
  {
   "cell_type": "markdown",
   "metadata": {},
   "source": [
    "### task schema SQL table\n",
    "\n",
    "To help model understand, some slot names are renamed"
   ]
  },
  {
   "cell_type": "code",
   "execution_count": 1,
   "metadata": {},
   "outputs": [],
   "source": [
    "table_prompt = \"\"\"\n",
    "CREATE TABLE hotel(\n",
    "name text,\n",
    "pricerange text CHECK (pricerange IN (dontcare, cheap, moderate, expensive)),\n",
    "type text CHECK (type IN (hotel, guest house)),\n",
    "parking text CHECK (parking IN (dontcare, yes, no)),\n",
    "book_stay int,\n",
    "book_day text,\n",
    "book_people int,\n",
    "area text CHECK (area IN (dontcare, centre, east, north, south, west)),\n",
    "stars int CHECK (stars IN (dontcare, 0, 1, 2, 3, 4, 5)),\n",
    "internet text CHECK (internet IN (dontcare, yes, no))\n",
    ")\n",
    "/*\n",
    "4 example rows:\n",
    "SELECT * FROM hotel LIMIT 4;\n",
    "name pricerange type parking book_stay book_day book_people area stars internet\n",
    "a and b guest house moderate guest house dontcare 3 friday 5 east 4 yes\n",
    "ashley hotel expensive hotel yes 2 thursday 5 north 5 yes\n",
    "el shaddia guest house cheap guest house yes 5 friday 2 centre dontcare no\n",
    "express by holiday inn cambridge dontcare guest house yes 3 monday 2 east dontcare no\n",
    "*/\n",
    "\n",
    "CREATE TABLE train(\n",
    "destination text,\n",
    "departure text,\n",
    "day text,\n",
    "book_people int,\n",
    "leaveat text,\n",
    "arriveby text\n",
    ")\n",
    "/*\n",
    "3 example rows:\n",
    "SELECT * FROM train LIMIT 3;\n",
    "destination departure day book_people leaveat arriveby\n",
    "london kings cross cambridge monday 6 dontcare 05:51\n",
    "cambridge stansted airport dontcare 1 20:24 20:52\n",
    "peterborough cambridge saturday 2 12:06 12:56\n",
    "*/\n",
    "\n",
    "CREATE TABLE attraction(\n",
    "name text,\n",
    "area text CHECK (area IN (dontcare, centre, east, north, south, west)),\n",
    "type text,\n",
    ")\n",
    "/*\n",
    "4 example rows:\n",
    "SELECT * FROM attraction LIMIT 4;\n",
    "name area type\n",
    "abbey pool and astroturf pitch centre swimming pool\n",
    "adc theatre centre theatre\n",
    "all saints church dontcare architecture\n",
    "castle galleries centre museum\n",
    "*/\n",
    "\n",
    "CREATE TABLE restaurant(\n",
    "name text,\n",
    "food text,\n",
    "pricerange text CHECK (pricerange IN (dontcare, cheap, moderate, expensive)),\n",
    "area text CHECK (area IN (centre, east, north, south, west)),\n",
    "book_time text,\n",
    "book_day text,\n",
    "book_people int\n",
    ")\n",
    "/*\n",
    "5 example rows:\n",
    "SELECT * FROM restaurant LIMIT 5;\n",
    "name food pricerange area book_time book_day book_people\n",
    "pizza hut city centre italian dontcare centre 13:30 wednesday 7\n",
    "the missing sock international moderate east dontcare dontcare 2\n",
    "golden wok chinese moderate north 17:11 friday 4\n",
    "cambridge chop house dontcare expensive center 08:43 monday 5\n",
    "darrys cookhouse and wine shop modern european expensive center 11:20 saturday 8\n",
    "*/\n",
    "\n",
    "CREATE TABLE taxi(\n",
    "destination text,\n",
    "departure text,\n",
    "leaveat text,\n",
    "arriveby text\n",
    ")\n",
    "/*\n",
    "3 example rows:\n",
    "SELECT * FROM taxi LIMIT 3;\n",
    "destination departure leaveat arriveby\n",
    "copper kettle royal spice 14:45 15:30\n",
    "magdalene college university arms hotel dontcare 15:45\n",
    "lovell lodge da vinci pizzeria 11:45 dontcare\n",
    "*/\n",
    "\n",
    "-- Using valid SQLite, answer the following multi-turn conversational questions for the tables provided above.\n",
    "\"\"\""
   ]
  },
  {
   "cell_type": "markdown",
   "metadata": {},
   "source": [
    "### current test turn"
   ]
  },
  {
   "cell_type": "code",
   "execution_count": 2,
   "metadata": {},
   "outputs": [],
   "source": [
    "current_test_turn = \"\"\"[context] attraction-area: east\n",
    "[system] how about cambridge artworks ? it s a museum on the east side of town , and they have no entrance fee .\n",
    "Q: [user] that sounds great . what s their address and postcode ?\"\"\""
   ]
  },
  {
   "cell_type": "markdown",
   "metadata": {},
   "source": [
    "### retrieved examples\n",
    "\n",
    "Examples retrieved from 5% subset of MW2.1 training set"
   ]
  },
  {
   "cell_type": "code",
   "execution_count": 3,
   "metadata": {},
   "outputs": [],
   "source": [
    "examples = \"\"\"\n",
    "Example #1\n",
    "[context] attraction-area: centre, attraction-type: museum, train-departure: cambridge, train-day: friday, train-\n",
    "arrive_by_time: 12:45, train-book people: 6, train-destination: leicester\n",
    "[system] i recommend castle galleries located at unit su43 , grande arcade , saint andrews street . their phone number is\n",
    "01223307402 . is there anything else i can help you with ?\n",
    "Q: [user] excellent , can you give me the postcode ?\n",
    "SQL: SELECT * FROM attraction WHERE name = castle galleries;\n",
    "\n",
    "\n",
    "Example #2\n",
    "[context] attraction-type: museum, restaurant-book day: wednesday, restaurant-book people: 7, restaurant-name: loch fyne,\n",
    "restaurant-book time: 16:30, attraction-area: west\n",
    "[system] i would suggest cafe jello gallery located at cafe jello gallery , 13 magdalene street . they have free entry .\n",
    "Q: [user] okay great ! what is their phone number please ?\n",
    "SQL: SELECT * FROM attraction WHERE name = cafe jello gallery;\n",
    "\n",
    "\n",
    "Example #3\n",
    "[context] attraction-area: centre, attraction-type: museum\n",
    "[system] the broughton house gallery is in the centre , and it has no entrance fee .\n",
    "Q: [user] may i have the telephone number please ?\n",
    "SQL: SELECT * FROM attraction WHERE name = broughton house gallery;\n",
    "\n",
    "\n",
    "Example #4\n",
    "[context] train-arrive_by_time: 21:30, train-destination: leicester, train-day: thursday, train-departure: cambridge\n",
    "[system] how many tickets please ?\n",
    "Q: [user] i do not need to make the reservation now . thank you though . i would like the address for cambridge contemporary\n",
    "art please .\n",
    "SQL: SELECT * FROM attraction WHERE name = cambridge contemporary art;\n",
    "\n",
    "\n",
    "Example #5\n",
    "[context] attraction-area: east\n",
    "[system] i like the cambridge artworks it s a museum at 5 greens road and it has free admission .\n",
    "Q: [user] that sounds , good , what is the postcode ?\n",
    "SQL: SELECT * FROM attraction WHERE name = cambridge artworks;\n",
    "\n",
    "\n",
    "\"\"\""
   ]
  },
  {
   "cell_type": "markdown",
   "metadata": {},
   "source": [
    "# Combine the prompt"
   ]
  },
  {
   "cell_type": "code",
   "execution_count": 4,
   "metadata": {},
   "outputs": [],
   "source": [
    "prompt = table_prompt + examples + \"Example #6\\n\" + current_test_turn + \"\\nSQL: SELECT * FROM\""
   ]
  },
  {
   "cell_type": "markdown",
   "metadata": {},
   "source": [
    "# Codex completion\n",
    "(After put your OpenAI API key in config.py)"
   ]
  },
  {
   "cell_type": "code",
   "execution_count": 6,
   "metadata": {},
   "outputs": [
    {
     "name": "stdout",
     "output_type": "stream",
     "text": [
      " attraction WHERE name = cambridge artworks\n"
     ]
    }
   ],
   "source": [
    "from codex_completion import codex_completion\n",
    "print(codex_completion(prompt))"
   ]
  },
  {
   "cell_type": "markdown",
   "metadata": {},
   "source": [
    "# GPT-Neo completion"
   ]
  },
  {
   "cell_type": "code",
   "execution_count": 6,
   "metadata": {},
   "outputs": [],
   "source": [
    "from gpt_neo_completion import gpt_neo_completion  # just run once. this will load the model. super slow and take GPU memory."
   ]
  },
  {
   "cell_type": "code",
   "execution_count": 7,
   "metadata": {},
   "outputs": [
    {
     "name": "stderr",
     "output_type": "stream",
     "text": [
      "Setting `pad_token_id` to `eos_token_id`:50256 for open-end generation.\n"
     ]
    },
    {
     "name": "stdout",
     "output_type": "stream",
     "text": [
      " attraction WHERE name = cambridge artworks\n"
     ]
    }
   ],
   "source": [
    "print(gpt_neo_completion(prompt))"
   ]
  },
  {
   "cell_type": "markdown",
   "metadata": {},
   "source": [
    "# CodeGen completion"
   ]
  },
  {
   "cell_type": "code",
   "execution_count": 5,
   "metadata": {},
   "outputs": [
    {
     "name": "stdout",
     "output_type": "stream",
     "text": [
      "loading parameters\n",
      "loading parameters took 21.84s\n",
      "loading tokenizer\n",
      "loading tokenizer took 3.80s\n"
     ]
    }
   ],
   "source": [
    "from codegen_completion import codegen_completion  # just run once. this will load the model. super slow and take GPU memory."
   ]
  },
  {
   "cell_type": "code",
   "execution_count": 6,
   "metadata": {},
   "outputs": [
    {
     "name": "stdout",
     "output_type": "stream",
     "text": [
      " attraction WHERE name = cambridge artworks\n"
     ]
    }
   ],
   "source": [
    "print(codegen_completion(prompt))"
   ]
  }
 ],
 "metadata": {
  "interpreter": {
   "hash": "b4c2364dfd750a828c4f37dbf5e394f322185d5df95279909a0fa71ab6103cdd"
  },
  "kernelspec": {
   "display_name": "Python 3.10.4 ('pt111')",
   "language": "python",
   "name": "python3"
  },
  "language_info": {
   "codemirror_mode": {
    "name": "ipython",
    "version": 3
   },
   "file_extension": ".py",
   "mimetype": "text/x-python",
   "name": "python",
   "nbconvert_exporter": "python",
   "pygments_lexer": "ipython3",
   "version": "3.10.4"
  },
  "orig_nbformat": 4
 },
 "nbformat": 4,
 "nbformat_minor": 2
}
